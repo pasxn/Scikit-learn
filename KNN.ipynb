{
 "cells": [
  {
   "cell_type": "code",
   "execution_count": 1,
   "metadata": {},
   "outputs": [],
   "source": [
    "import numpy as np\n",
    "import pandas as pd\n",
    "from sklearn import neighbors, metrics\n",
    "from sklearn.model_selection import train_test_split\n",
    "from sklearn.preprocessing import LabelEncoder"
   ]
  },
  {
   "cell_type": "code",
   "execution_count": 3,
   "metadata": {},
   "outputs": [
    {
     "name": "stdout",
     "output_type": "stream",
     "text": [
      "  buying  maint doors persons lug_boot safety  class\n",
      "0  vhigh  vhigh     2       2    small    low  unacc\n",
      "1  vhigh  vhigh     2       2    small    med  unacc\n",
      "2  vhigh  vhigh     2       2    small   high  unacc\n",
      "3  vhigh  vhigh     2       2      med    low  unacc\n",
      "4  vhigh  vhigh     2       2      med    med  unacc\n"
     ]
    }
   ],
   "source": [
    "data = pd.read_csv('car.data')\n",
    "print(data.head())"
   ]
  },
  {
   "cell_type": "code",
   "execution_count": 33,
   "metadata": {},
   "outputs": [],
   "source": [
    "x = data[['buying', 'maint', 'safety']].values\n",
    "y = data[['class']]"
   ]
  },
  {
   "cell_type": "code",
   "execution_count": 34,
   "metadata": {},
   "outputs": [
    {
     "name": "stdout",
     "output_type": "stream",
     "text": [
      "[['vhigh' 'vhigh' 'low']\n",
      " ['vhigh' 'vhigh' 'med']\n",
      " ['vhigh' 'vhigh' 'high']\n",
      " ...\n",
      " ['low' 'low' 'low']\n",
      " ['low' 'low' 'med']\n",
      " ['low' 'low' 'high']]       class\n",
      "0     unacc\n",
      "1     unacc\n",
      "2     unacc\n",
      "3     unacc\n",
      "4     unacc\n",
      "...     ...\n",
      "1723   good\n",
      "1724  vgood\n",
      "1725  unacc\n",
      "1726   good\n",
      "1727  vgood\n",
      "\n",
      "[1728 rows x 1 columns]\n"
     ]
    }
   ],
   "source": [
    "print(x, y)"
   ]
  },
  {
   "cell_type": "code",
   "execution_count": 35,
   "metadata": {},
   "outputs": [
    {
     "name": "stdout",
     "output_type": "stream",
     "text": [
      "[[3 3 1]\n",
      " [3 3 2]\n",
      " [3 3 0]\n",
      " ...\n",
      " [1 1 1]\n",
      " [1 1 2]\n",
      " [1 1 0]]\n"
     ]
    }
   ],
   "source": [
    "# converting the X to numbers\n",
    "Le = LabelEncoder()\n",
    "for i in range(len(x[0])):\n",
    "    x[:, i] = Le.fit_transform(x[:, i])\n",
    "    \n",
    "print(x)"
   ]
  },
  {
   "cell_type": "code",
   "execution_count": 37,
   "metadata": {},
   "outputs": [
    {
     "name": "stdout",
     "output_type": "stream",
     "text": [
      "(1728, 1)\n"
     ]
    }
   ],
   "source": [
    "print(y.shape)"
   ]
  },
  {
   "cell_type": "code",
   "execution_count": 38,
   "metadata": {},
   "outputs": [
    {
     "name": "stdout",
     "output_type": "stream",
     "text": [
      "[[0]\n",
      " [0]\n",
      " [0]\n",
      " ...\n",
      " [0]\n",
      " [2]\n",
      " [3]]\n"
     ]
    },
    {
     "name": "stderr",
     "output_type": "stream",
     "text": [
      "<ipython-input-38-f7e3c7763abf>:3: SettingWithCopyWarning: \n",
      "A value is trying to be set on a copy of a slice from a DataFrame.\n",
      "Try using .loc[row_indexer,col_indexer] = value instead\n",
      "\n",
      "See the caveats in the documentation: https://pandas.pydata.org/pandas-docs/stable/user_guide/indexing.html#returning-a-view-versus-a-copy\n",
      "  y['class'] = y['class'].map(label_maping)\n"
     ]
    }
   ],
   "source": [
    "# converting the Y to numbers\n",
    "label_maping = {'unacc':0, 'acc':1, 'good':2, 'vgood':3}\n",
    "y['class'] = y['class'].map(label_maping)\n",
    "y = np.array(y)\n",
    "print(y)"
   ]
  },
  {
   "cell_type": "code",
   "execution_count": 39,
   "metadata": {},
   "outputs": [],
   "source": [
    "knn = neighbors.KNeighborsClassifier(n_neighbors=25, weights='uniform')"
   ]
  },
  {
   "cell_type": "code",
   "execution_count": 41,
   "metadata": {},
   "outputs": [],
   "source": [
    "x_train, x_test, y_train, y_test = train_test_split(x,y, test_size=0.2)"
   ]
  },
  {
   "cell_type": "code",
   "execution_count": 43,
   "metadata": {},
   "outputs": [
    {
     "name": "stderr",
     "output_type": "stream",
     "text": [
      "<ipython-input-43-17b0ab828d68>:1: DataConversionWarning: A column-vector y was passed when a 1d array was expected. Please change the shape of y to (n_samples, ), for example using ravel().\n",
      "  knn.fit(x_train,y_train)\n"
     ]
    },
    {
     "data": {
      "text/plain": [
       "KNeighborsClassifier(n_neighbors=25)"
      ]
     },
     "execution_count": 43,
     "metadata": {},
     "output_type": "execute_result"
    }
   ],
   "source": [
    "knn.fit(x_train,y_train)"
   ]
  },
  {
   "cell_type": "code",
   "execution_count": 44,
   "metadata": {},
   "outputs": [],
   "source": [
    "prediction = knn.predict(x_test)\n",
    "accuracy = metrics.accuracy_score(y_test,prediction)"
   ]
  },
  {
   "cell_type": "code",
   "execution_count": 47,
   "metadata": {},
   "outputs": [
    {
     "name": "stdout",
     "output_type": "stream",
     "text": [
      "['unacc', 'acc', 'good', 'vgood']\n"
     ]
    }
   ],
   "source": [
    "tmp = []\n",
    "for key, value in label_maping.items():\n",
    "    aKey = key\n",
    "    aValue = value\n",
    "    tmp.append(aKey)\n",
    "\n",
    "print(tmp)"
   ]
  },
  {
   "cell_type": "code",
   "execution_count": 48,
   "metadata": {},
   "outputs": [
    {
     "name": "stdout",
     "output_type": "stream",
     "text": [
      "(346,)\n"
     ]
    }
   ],
   "source": [
    "print(prediction.shape)"
   ]
  },
  {
   "cell_type": "code",
   "execution_count": 52,
   "metadata": {},
   "outputs": [
    {
     "name": "stdout",
     "output_type": "stream",
     "text": [
      "(346, 1)\n"
     ]
    }
   ],
   "source": [
    "print(y_test.shape)"
   ]
  },
  {
   "cell_type": "code",
   "execution_count": 63,
   "metadata": {},
   "outputs": [
    {
     "name": "stdout",
     "output_type": "stream",
     "text": [
      "unacc   >>>>   unacc\n",
      "unacc   >>>>   unacc\n",
      "acc   >>>>   acc\n",
      "unacc   >>>>   unacc\n",
      "acc   >>>>   acc\n",
      "unacc   >>>>   unacc\n",
      "unacc   >>>>   acc\n",
      "unacc   >>>>   unacc\n",
      "unacc   >>>>   unacc\n",
      "unacc   >>>>   unacc\n",
      "unacc   >>>>   unacc\n",
      "unacc   >>>>   unacc\n",
      "unacc   >>>>   unacc\n",
      "unacc   >>>>   unacc\n",
      "unacc   >>>>   unacc\n",
      "unacc   >>>>   unacc\n",
      "unacc   >>>>   unacc\n",
      "acc   >>>>   unacc\n",
      "unacc   >>>>   unacc\n",
      "unacc   >>>>   unacc\n",
      "unacc   >>>>   unacc\n",
      "unacc   >>>>   unacc\n",
      "acc   >>>>   unacc\n",
      "acc   >>>>   good\n",
      "unacc   >>>>   unacc\n",
      "unacc   >>>>   acc\n",
      "acc   >>>>   unacc\n",
      "unacc   >>>>   vgood\n",
      "vgood   >>>>   unacc\n",
      "acc   >>>>   acc\n",
      "unacc   >>>>   unacc\n",
      "unacc   >>>>   unacc\n",
      "acc   >>>>   vgood\n",
      "unacc   >>>>   acc\n",
      "unacc   >>>>   unacc\n",
      "unacc   >>>>   unacc\n",
      "unacc   >>>>   unacc\n",
      "acc   >>>>   unacc\n",
      "unacc   >>>>   unacc\n",
      "unacc   >>>>   unacc\n",
      "acc   >>>>   acc\n",
      "acc   >>>>   unacc\n",
      "unacc   >>>>   unacc\n",
      "acc   >>>>   unacc\n",
      "unacc   >>>>   unacc\n",
      "unacc   >>>>   unacc\n",
      "unacc   >>>>   unacc\n",
      "unacc   >>>>   acc\n",
      "unacc   >>>>   unacc\n",
      "unacc   >>>>   unacc\n",
      "unacc   >>>>   unacc\n",
      "unacc   >>>>   unacc\n",
      "unacc   >>>>   vgood\n",
      "unacc   >>>>   unacc\n",
      "unacc   >>>>   unacc\n",
      "unacc   >>>>   good\n",
      "unacc   >>>>   unacc\n",
      "unacc   >>>>   unacc\n",
      "acc   >>>>   unacc\n",
      "unacc   >>>>   unacc\n",
      "unacc   >>>>   unacc\n",
      "unacc   >>>>   unacc\n",
      "good   >>>>   vgood\n",
      "unacc   >>>>   unacc\n",
      "unacc   >>>>   unacc\n",
      "acc   >>>>   unacc\n",
      "vgood   >>>>   unacc\n",
      "unacc   >>>>   vgood\n",
      "acc   >>>>   acc\n",
      "unacc   >>>>   unacc\n",
      "unacc   >>>>   unacc\n",
      "unacc   >>>>   unacc\n",
      "acc   >>>>   vgood\n",
      "acc   >>>>   unacc\n",
      "unacc   >>>>   unacc\n",
      "unacc   >>>>   vgood\n",
      "unacc   >>>>   unacc\n",
      "unacc   >>>>   unacc\n",
      "unacc   >>>>   unacc\n",
      "unacc   >>>>   acc\n",
      "unacc   >>>>   unacc\n",
      "acc   >>>>   good\n",
      "acc   >>>>   acc\n",
      "unacc   >>>>   acc\n",
      "acc   >>>>   acc\n",
      "unacc   >>>>   unacc\n",
      "unacc   >>>>   unacc\n",
      "unacc   >>>>   unacc\n",
      "unacc   >>>>   unacc\n",
      "acc   >>>>   good\n",
      "unacc   >>>>   unacc\n",
      "acc   >>>>   acc\n",
      "good   >>>>   unacc\n",
      "acc   >>>>   acc\n",
      "acc   >>>>   unacc\n",
      "acc   >>>>   acc\n",
      "unacc   >>>>   unacc\n",
      "unacc   >>>>   unacc\n",
      "unacc   >>>>   unacc\n",
      "unacc   >>>>   unacc\n",
      "unacc   >>>>   unacc\n",
      "unacc   >>>>   unacc\n",
      "acc   >>>>   unacc\n",
      "unacc   >>>>   unacc\n",
      "unacc   >>>>   unacc\n",
      "vgood   >>>>   vgood\n",
      "unacc   >>>>   unacc\n",
      "unacc   >>>>   unacc\n",
      "acc   >>>>   acc\n",
      "unacc   >>>>   unacc\n",
      "good   >>>>   vgood\n",
      "unacc   >>>>   unacc\n",
      "good   >>>>   unacc\n",
      "acc   >>>>   acc\n",
      "good   >>>>   unacc\n",
      "acc   >>>>   acc\n",
      "acc   >>>>   acc\n",
      "unacc   >>>>   unacc\n",
      "unacc   >>>>   unacc\n",
      "unacc   >>>>   unacc\n",
      "good   >>>>   vgood\n",
      "unacc   >>>>   unacc\n",
      "good   >>>>   unacc\n",
      "unacc   >>>>   unacc\n",
      "unacc   >>>>   unacc\n",
      "good   >>>>   good\n",
      "unacc   >>>>   unacc\n",
      "unacc   >>>>   unacc\n",
      "acc   >>>>   unacc\n",
      "unacc   >>>>   unacc\n",
      "acc   >>>>   acc\n",
      "unacc   >>>>   unacc\n",
      "unacc   >>>>   unacc\n",
      "unacc   >>>>   unacc\n",
      "unacc   >>>>   unacc\n",
      "unacc   >>>>   acc\n",
      "unacc   >>>>   unacc\n",
      "unacc   >>>>   unacc\n",
      "unacc   >>>>   acc\n",
      "unacc   >>>>   unacc\n",
      "unacc   >>>>   unacc\n",
      "unacc   >>>>   unacc\n",
      "unacc   >>>>   vgood\n",
      "unacc   >>>>   unacc\n",
      "acc   >>>>   acc\n",
      "unacc   >>>>   unacc\n",
      "unacc   >>>>   unacc\n",
      "acc   >>>>   acc\n",
      "acc   >>>>   acc\n",
      "acc   >>>>   acc\n",
      "unacc   >>>>   unacc\n",
      "unacc   >>>>   vgood\n",
      "vgood   >>>>   unacc\n",
      "unacc   >>>>   unacc\n",
      "unacc   >>>>   unacc\n",
      "unacc   >>>>   unacc\n",
      "acc   >>>>   acc\n",
      "unacc   >>>>   unacc\n",
      "unacc   >>>>   unacc\n",
      "vgood   >>>>   vgood\n",
      "acc   >>>>   acc\n",
      "unacc   >>>>   unacc\n",
      "unacc   >>>>   unacc\n",
      "unacc   >>>>   unacc\n",
      "unacc   >>>>   good\n",
      "unacc   >>>>   unacc\n",
      "good   >>>>   good\n",
      "acc   >>>>   acc\n",
      "unacc   >>>>   unacc\n",
      "acc   >>>>   good\n",
      "unacc   >>>>   unacc\n",
      "acc   >>>>   acc\n",
      "unacc   >>>>   unacc\n",
      "unacc   >>>>   acc\n",
      "unacc   >>>>   unacc\n",
      "acc   >>>>   unacc\n",
      "unacc   >>>>   unacc\n",
      "unacc   >>>>   unacc\n",
      "unacc   >>>>   unacc\n",
      "good   >>>>   vgood\n",
      "unacc   >>>>   unacc\n",
      "unacc   >>>>   acc\n",
      "acc   >>>>   acc\n",
      "acc   >>>>   acc\n",
      "acc   >>>>   acc\n",
      "unacc   >>>>   unacc\n",
      "acc   >>>>   unacc\n",
      "acc   >>>>   acc\n",
      "good   >>>>   unacc\n",
      "acc   >>>>   acc\n",
      "unacc   >>>>   unacc\n",
      "good   >>>>   unacc\n",
      "unacc   >>>>   unacc\n",
      "unacc   >>>>   unacc\n",
      "acc   >>>>   acc\n",
      "acc   >>>>   good\n",
      "acc   >>>>   acc\n",
      "unacc   >>>>   acc\n",
      "unacc   >>>>   acc\n",
      "unacc   >>>>   unacc\n",
      "unacc   >>>>   acc\n",
      "unacc   >>>>   unacc\n",
      "acc   >>>>   acc\n",
      "acc   >>>>   acc\n",
      "unacc   >>>>   unacc\n",
      "unacc   >>>>   unacc\n",
      "vgood   >>>>   unacc\n",
      "unacc   >>>>   good\n",
      "acc   >>>>   acc\n",
      "unacc   >>>>   vgood\n",
      "unacc   >>>>   unacc\n",
      "unacc   >>>>   unacc\n",
      "unacc   >>>>   unacc\n",
      "unacc   >>>>   unacc\n",
      "unacc   >>>>   unacc\n",
      "unacc   >>>>   unacc\n",
      "unacc   >>>>   unacc\n",
      "unacc   >>>>   unacc\n",
      "unacc   >>>>   acc\n",
      "unacc   >>>>   unacc\n",
      "unacc   >>>>   good\n",
      "acc   >>>>   acc\n",
      "acc   >>>>   acc\n",
      "unacc   >>>>   unacc\n",
      "acc   >>>>   good\n",
      "unacc   >>>>   unacc\n",
      "unacc   >>>>   unacc\n",
      "acc   >>>>   unacc\n",
      "unacc   >>>>   good\n",
      "unacc   >>>>   acc\n",
      "unacc   >>>>   acc\n",
      "acc   >>>>   acc\n",
      "unacc   >>>>   unacc\n",
      "unacc   >>>>   unacc\n",
      "unacc   >>>>   unacc\n",
      "acc   >>>>   acc\n",
      "unacc   >>>>   unacc\n",
      "unacc   >>>>   unacc\n",
      "unacc   >>>>   unacc\n",
      "unacc   >>>>   unacc\n",
      "unacc   >>>>   unacc\n",
      "unacc   >>>>   unacc\n",
      "unacc   >>>>   unacc\n",
      "unacc   >>>>   unacc\n",
      "unacc   >>>>   acc\n",
      "unacc   >>>>   unacc\n",
      "acc   >>>>   acc\n",
      "vgood   >>>>   unacc\n",
      "acc   >>>>   acc\n",
      "unacc   >>>>   unacc\n",
      "acc   >>>>   good\n",
      "acc   >>>>   acc\n",
      "unacc   >>>>   unacc\n",
      "unacc   >>>>   vgood\n",
      "unacc   >>>>   acc\n",
      "unacc   >>>>   unacc\n",
      "unacc   >>>>   unacc\n",
      "unacc   >>>>   acc\n",
      "acc   >>>>   unacc\n",
      "acc   >>>>   good\n",
      "unacc   >>>>   unacc\n",
      "acc   >>>>   vgood\n",
      "vgood   >>>>   vgood\n",
      "acc   >>>>   acc\n",
      "acc   >>>>   unacc\n",
      "unacc   >>>>   unacc\n",
      "acc   >>>>   good\n",
      "unacc   >>>>   unacc\n",
      "unacc   >>>>   unacc\n",
      "acc   >>>>   good\n",
      "unacc   >>>>   unacc\n",
      "vgood   >>>>   unacc\n",
      "unacc   >>>>   unacc\n",
      "unacc   >>>>   unacc\n",
      "unacc   >>>>   unacc\n",
      "unacc   >>>>   unacc\n",
      "unacc   >>>>   unacc\n",
      "acc   >>>>   acc\n",
      "vgood   >>>>   vgood\n",
      "unacc   >>>>   acc\n",
      "unacc   >>>>   unacc\n",
      "unacc   >>>>   unacc\n",
      "unacc   >>>>   unacc\n",
      "unacc   >>>>   unacc\n",
      "unacc   >>>>   unacc\n",
      "unacc   >>>>   unacc\n",
      "unacc   >>>>   acc\n",
      "acc   >>>>   acc\n",
      "unacc   >>>>   unacc\n",
      "unacc   >>>>   unacc\n",
      "unacc   >>>>   unacc\n",
      "acc   >>>>   unacc\n",
      "acc   >>>>   acc\n",
      "unacc   >>>>   unacc\n",
      "acc   >>>>   acc\n",
      "acc   >>>>   unacc\n",
      "unacc   >>>>   unacc\n",
      "unacc   >>>>   unacc\n",
      "unacc   >>>>   unacc\n",
      "acc   >>>>   acc\n",
      "unacc   >>>>   unacc\n",
      "unacc   >>>>   acc\n",
      "unacc   >>>>   unacc\n",
      "acc   >>>>   acc\n",
      "acc   >>>>   unacc\n",
      "unacc   >>>>   unacc\n",
      "unacc   >>>>   acc\n",
      "unacc   >>>>   unacc\n",
      "vgood   >>>>   vgood\n",
      "unacc   >>>>   unacc\n",
      "unacc   >>>>   vgood\n",
      "acc   >>>>   acc\n",
      "unacc   >>>>   acc\n",
      "unacc   >>>>   unacc\n",
      "unacc   >>>>   acc\n",
      "unacc   >>>>   unacc\n",
      "unacc   >>>>   unacc\n",
      "good   >>>>   good\n",
      "unacc   >>>>   unacc\n",
      "unacc   >>>>   unacc\n",
      "unacc   >>>>   unacc\n",
      "unacc   >>>>   unacc\n",
      "unacc   >>>>   unacc\n",
      "unacc   >>>>   unacc\n",
      "unacc   >>>>   unacc\n",
      "acc   >>>>   acc\n",
      "unacc   >>>>   unacc\n",
      "unacc   >>>>   unacc\n",
      "unacc   >>>>   unacc\n",
      "unacc   >>>>   unacc\n",
      "unacc   >>>>   vgood\n",
      "acc   >>>>   unacc\n",
      "acc   >>>>   acc\n",
      "unacc   >>>>   acc\n",
      "acc   >>>>   acc\n",
      "unacc   >>>>   unacc\n",
      "unacc   >>>>   unacc\n",
      "unacc   >>>>   unacc\n",
      "acc   >>>>   acc\n",
      "acc   >>>>   unacc\n",
      "unacc   >>>>   unacc\n",
      "unacc   >>>>   unacc\n",
      "vgood   >>>>   unacc\n",
      "unacc   >>>>   unacc\n",
      "unacc   >>>>   unacc\n",
      "good   >>>>   unacc\n"
     ]
    }
   ],
   "source": [
    "for i in range(int(prediction.shape[0])):\n",
    "    print(tmp[int(y_test[i])] + \"   >>>>   \" + tmp[prediction[i]])"
   ]
  },
  {
   "cell_type": "code",
   "execution_count": 62,
   "metadata": {},
   "outputs": [
    {
     "name": "stdout",
     "output_type": "stream",
     "text": [
      "0.7283236994219653\n"
     ]
    }
   ],
   "source": [
    "print(accuracy)"
   ]
  },
  {
   "cell_type": "code",
   "execution_count": 65,
   "metadata": {},
   "outputs": [
    {
     "name": "stdout",
     "output_type": "stream",
     "text": [
      "actual value:  [0]\n",
      "Predicted value:  0\n"
     ]
    }
   ],
   "source": [
    "print(\"actual value: \", y[20])\n",
    "print(\"Predicted value: \",knn.predict(x)[20])"
   ]
  },
  {
   "cell_type": "code",
   "execution_count": null,
   "metadata": {},
   "outputs": [],
   "source": []
  }
 ],
 "metadata": {
  "kernelspec": {
   "display_name": "Python 3",
   "language": "python",
   "name": "python3"
  },
  "language_info": {
   "codemirror_mode": {
    "name": "ipython",
    "version": 3
   },
   "file_extension": ".py",
   "mimetype": "text/x-python",
   "name": "python",
   "nbconvert_exporter": "python",
   "pygments_lexer": "ipython3",
   "version": "3.8.5"
  }
 },
 "nbformat": 4,
 "nbformat_minor": 4
}
